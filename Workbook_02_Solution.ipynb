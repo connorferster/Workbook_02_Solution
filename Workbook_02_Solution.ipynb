{
 "cells": [
  {
   "cell_type": "code",
   "execution_count": 1,
   "id": "72bdb903-9877-46a7-a320-183c813dd6aa",
   "metadata": {},
   "outputs": [],
   "source": [
    "from sympy.physics.continuum_mechanics.beam import Beam\n",
    "from sympy import symbols"
   ]
  },
  {
   "cell_type": "markdown",
   "id": "f54dc2e3-fcb7-4506-ab0e-c8db04c2a962",
   "metadata": {
    "tags": []
   },
   "source": [
    "# 👩‍💻 Workbook 02: String and list manipulation\n",
    "\n",
    "This workbook is about learning how to manually manipulate string data that is read from files.\n",
    "\n",
    "To do this, you will be reading data from three files: \"beam_1.txt\", \"beam_2.txt\", and \"beam_3.txt\".\n",
    "\n",
    "The file format of each text file is as follows. Values shown in square brackets `[]` are optional data and may or may not appear in the file.\n",
    "\n",
    "```python\n",
    "Length, [E, I] # Line 0\n",
    "Support locations # Line 1\n",
    "Load Magnitude, Load Start, Load Order, [Load End] # Line 2\n",
    "Load Magnitude, Load Start, Load Order, [Load End] # Line 3 ...\n",
    "... # etc.\n",
    "```\n",
    "\n",
    "All the lines below the first two lines will be loads. There can be zero, one, or many lines of loads.\n"
   ]
  },
  {
   "cell_type": "markdown",
   "id": "f5c44721-63e5-4780-99a4-6fa40901d6ed",
   "metadata": {},
   "source": [
    "## Task A\n",
    "\n",
    "Use the \"file opening\" template to open the file, \"beam_1.txt\". Assign the `file.read()` data to a variable named `beam_1_data`. Use `print()` to print `beam_1_data` to the notebook.\n",
    "\n",
    "Review the description of the file format above and mentally identify each piece of data in the file with what it represents in the description of the file format.\n",
    "\n",
    "Do the same with \"beam_2.txt\", except with a variable called `beam_2_data`, after you print it to the notebook, also."
   ]
  },
  {
   "cell_type": "markdown",
   "id": "19aa1c43-12d4-45c8-bd77-bce104bd644c",
   "metadata": {},
   "source": [
    "## Task A response"
   ]
  },
  {
   "cell_type": "code",
   "execution_count": 2,
   "id": "c59e694a-b8b9-4d94-9d56-71cf208f4f83",
   "metadata": {},
   "outputs": [
    {
     "name": "stdout",
     "output_type": "stream",
     "text": [
      "4800\n",
      "0, 3000\n",
      "10, 2000, 0\n"
     ]
    }
   ],
   "source": [
    "file_name = \"beam_1.txt\" # Same dir as notebook file\n",
    "with open(file_name, 'r') as file:\n",
    "    beam_1_data = file.read()\n",
    "    \n",
    "print(beam_1_data)"
   ]
  },
  {
   "cell_type": "code",
   "execution_count": 3,
   "id": "15a20c93-8834-4513-937d-54219af39633",
   "metadata": {},
   "outputs": [
    {
     "name": "stdout",
     "output_type": "stream",
     "text": [
      "228, 28000, 756\n",
      "63, 100, 200\n",
      "15, 0, 0\n",
      "35, 0, 0\n"
     ]
    }
   ],
   "source": [
    "file_name = \"beam_2.txt\" # Same dir as notebook file\n",
    "with open(file_name, 'r') as file:\n",
    "    beam_2_data = file.read()\n",
    "    \n",
    "print(beam_2_data)"
   ]
  },
  {
   "cell_type": "markdown",
   "id": "71243b7c-2b2f-49f3-bed3-879cb7f46021",
   "metadata": {},
   "source": [
    "# Task B"
   ]
  },
  {
   "cell_type": "markdown",
   "id": "04fdbbeb-6cae-4870-9839-62be15de69a0",
   "metadata": {},
   "source": [
    "Use `.split()` to split the string in `beam_1_data` into separate lines. Access each line in the resulting list by using indexing and print each line to the notebook separately.\n",
    "\n",
    "Following that, if you see that any of the lines in the list is a string with comma-separated values, split those values up into another list by splitting that line with `.split()` using the appropriate character sequence."
   ]
  },
  {
   "cell_type": "markdown",
   "id": "53cbd8ee-59e9-4061-a171-08b31c2a7259",
   "metadata": {},
   "source": [
    "## Task B response"
   ]
  },
  {
   "cell_type": "code",
   "execution_count": 4,
   "id": "6db68086-f2c6-4830-a84a-6a6825e7969c",
   "metadata": {},
   "outputs": [
    {
     "name": "stdout",
     "output_type": "stream",
     "text": [
      "4800\n",
      "0, 3000\n",
      "10, 2000, 0\n"
     ]
    }
   ],
   "source": [
    "beam_1_lines = beam_1_data.split(\"\\n\")\n",
    "print(beam_1_lines[0])\n",
    "print(beam_1_lines[1])\n",
    "print(beam_1_lines[2])"
   ]
  },
  {
   "cell_type": "markdown",
   "id": "b2d4abb1-abe5-408c-98ae-230cb9257c85",
   "metadata": {},
   "source": [
    "# Task C\n",
    "\n",
    "Using a combination of splitting and indexing, assign each piece of data in the file to an appropriately named variable.\n",
    "\n",
    "For example, you might extract the length from the file and assign it to a variable called `length`. If there are two support locations, they could be `support_location_1` and `support_location_2`, etc.\n",
    "\n",
    "Try reducing the amount you have to type by assigning intermediary values (e.g. the list of split lines) to intermediary variable names.\n",
    "\n",
    "Check the type of your variables by printing the result of `type(<variable_name>)`. Are your \"numbers\" numbers?\n",
    "\n",
    "You can convert strings of integers to actual integers by using the `int()` function. \n",
    "\n",
    "e.g. \n",
    "```python\n",
    "length = int(length)\n",
    "```\n"
   ]
  },
  {
   "cell_type": "markdown",
   "id": "a5f79e8d-66ca-4ee2-95ab-fc66f969f4c2",
   "metadata": {},
   "source": [
    "## Task C response"
   ]
  },
  {
   "cell_type": "code",
   "execution_count": 5,
   "id": "27a0d8ea-7fbf-4ac6-9d86-689ecc478cb0",
   "metadata": {},
   "outputs": [
    {
     "name": "stdout",
     "output_type": "stream",
     "text": [
      "<class 'int'> 4800\n",
      "<class 'list'> ['0', '3000']\n",
      "<class 'int'> 0\n",
      "<class 'int'> 3000\n"
     ]
    }
   ],
   "source": [
    "length = int(beam_1_lines[0])\n",
    "supports = beam_1_lines[1].split(\", \")\n",
    "support_location_1 = int(supports[0])\n",
    "support_location_2 = int(supports[1])\n",
    "\n",
    "print(type(length), length)\n",
    "print(type(supports), supports)\n",
    "print(type(support_location_1), support_location_1)\n",
    "print(type(support_location_2), support_location_2)"
   ]
  },
  {
   "cell_type": "markdown",
   "id": "9dc9a70d-56cc-4343-83c1-ff5bda9c04c6",
   "metadata": {
    "tags": []
   },
   "source": [
    "# Task D\n",
    "\n",
    "By combining the work you have done in the cells above, copy-and-paste them into the cell below to create the beginning of a script to read beam data from a text file and then create a `Beam` object with `sympy`.\n",
    "\n",
    "Feel free to refer back to your Workbook 01 and the sympy beam reference guide.\n",
    "\n",
    "Putting it all together, you will be performing the following:\n",
    "\n",
    "1. Read the contents of the file using `.read()` and store the resulting string in a variable called `beam_1_data`.\n",
    "2. Using the information about the file format described above, use string methods, list methods, and indexing to extract data from the file. Create the following variables:\n",
    "* `length`\n",
    "* `E`\n",
    "* `I`\n",
    "    * If `E` and `I` are not in the file, create and assign `E` and `I` as sympy symbols.\n",
    "* Supports\n",
    "    * Create separate variables for each support location, e.g. `support_location_1`, `support_location_2`, etc.\n",
    "    * `support_location_...`\n",
    "* Loads\n",
    "    * Create separate variables for each load, e.g. `load_magnitude_1`, `load_magnitude_2`, etc.\n",
    "    * `load_magnitude_...`\n",
    "    * `load_start_...`\n",
    "    * `load_order_...`\n",
    "    * `load_end_...` (if applicable)\n",
    "\n",
    "3. Create a new `Beam` object using the variables containing the data you read from the file. **Assume all supports are vertical point loads supports.** _Remember_, in addition to creating a sympy `symbol` for each unknown, you will also need to create a `.bc_deflection` list of restraints (refer to your Workbook 01 and the sympy beams reference guide).\n",
    "\n",
    "4. Solve the `Beam` for reaction loads. Print reaction loads, plot the shear force and bending moment diagrams. If `E` and `I` are in the file, also plot the displacement."
   ]
  },
  {
   "cell_type": "markdown",
   "id": "cdcf9392-9cd8-44ba-8a16-7dbc7a06b45b",
   "metadata": {},
   "source": [
    "## Beam: Two supports, one load"
   ]
  },
  {
   "cell_type": "code",
   "execution_count": 6,
   "id": "ad14cea9-d291-4c62-8f97-3f3beb0bfc53",
   "metadata": {},
   "outputs": [
    {
     "name": "stdout",
     "output_type": "stream",
     "text": [
      "<class 'int'> 4800\n",
      "<class 'list'> ['0', '3000']\n",
      "<class 'int'> 0\n",
      "<class 'int'> 3000\n",
      "{R1: 11200/3, R2: -95200/3}\n"
     ]
    },
    {
     "data": {
      "image/png": "[encoded data removed]",
      "text/plain": [
       "<Figure size 432x288 with 1 Axes>"
      ]
     },
     "metadata": {
      "needs_background": "light"
     },
     "output_type": "display_data"
    },
    {
     "data": {
      "image/png": "[encoded data removed]",
      "text/plain": [
       "<Figure size 432x288 with 1 Axes>"
      ]
     },
     "metadata": {
      "needs_background": "light"
     },
     "output_type": "display_data"
    },
    {
     "data": {
      "text/plain": [
       "<sympy.plotting.plot.Plot at 0x20d90e3eac0>"
      ]
     },
     "execution_count": 6,
     "metadata": {},
     "output_type": "execute_result"
    }
   ],
   "source": [
    "with open(\"beam_1.txt\", 'r') as file:\n",
    "    beam_1_data = file.read()\n",
    "    \n",
    "b1_lines = beam_1_data.split(\"\\n\")\n",
    "    \n",
    "length = int(beam_1_lines[0])\n",
    "\n",
    "supports = beam_1_lines[1].split(\", \")\n",
    "\n",
    "support_location_1 = int(supports[0])\n",
    "support_location_2 = int(supports[1])\n",
    "\n",
    "load_magnitude_1 = b1_lines[2].split(\",\")[0]\n",
    "load_start_1 = b1_lines[2].split(\",\")[1]\n",
    "load_order_1 = b1_lines[2].split(\",\")[2]\n",
    "\n",
    "load_magnitude_1 = int(load_magnitude_1)\n",
    "load_start_1 = int(load_start_1)\n",
    "load_order_1 = int(load_order_1)\n",
    "\n",
    "E, I = symbols(\"E I\")\n",
    "R1, R2 = symbols(\"R1 R2\")\n",
    "\n",
    "b1_beam = Beam(length, E, I)\n",
    "b1_beam.apply_load(R1, support_location_1, -1)\n",
    "b1_beam.apply_load(R2, support_location_2, -1)\n",
    "b1_beam.apply_load(load_magnitude_1, load_start_1, load_order_1)\n",
    "b1_beam.bc_deflection = [(support_location_1, 0), (support_location_2, 0)]\n",
    "\n",
    "b1_beam.solve_for_reaction_loads(*[R1, R2])\n",
    "print(b1_beam.reaction_loads)\n",
    "b1_beam.plot_shear_force()\n",
    "b1_beam.plot_bending_moment()"
   ]
  },
  {
   "cell_type": "markdown",
   "id": "791397d1-c0ce-4aef-ac72-03bbb3af08e0",
   "metadata": {},
   "source": [
    "## Task 01 Response"
   ]
  },
  {
   "cell_type": "markdown",
   "id": "a0653be0-e976-4c21-8199-f94bb842795f",
   "metadata": {},
   "source": [
    "# Task E\n",
    "\n",
    "Perform the same instructions from **Task 1** with \"beam_2.txt\" except call your variable `beam_2_data`.\n",
    "\n",
    "Save yourself some time by copy-and-paste-ing your code from **Task D** and try modifying it to make it work. Note, the number of supports and number of loads are different in \"beam_2.txt\"."
   ]
  },
  {
   "cell_type": "markdown",
   "id": "0dd914dc-f6b8-4dce-a3e8-c88a821d943f",
   "metadata": {},
   "source": [
    "## Beam: Three supports, two loads"
   ]
  },
  {
   "cell_type": "code",
   "execution_count": 8,
   "id": "ac1e19bd-f712-4bc3-85b9-a4a99dd3da92",
   "metadata": {},
   "outputs": [
    {
     "name": "stdout",
     "output_type": "stream",
     "text": [
      "{R1: -6016.78462221345, R2: -1561.00506756757, R3: -3822.21031021898}\n"
     ]
    },
    {
     "data": {
      "image/png": "[encoded data removed]",
      "text/plain": [
       "<Figure size 432x288 with 1 Axes>"
      ]
     },
     "metadata": {
      "needs_background": "light"
     },
     "output_type": "display_data"
    },
    {
     "data": {
      "image/png": "[encoded data removed]",
      "text/plain": [
       "<Figure size 432x288 with 1 Axes>"
      ]
     },
     "metadata": {
      "needs_background": "light"
     },
     "output_type": "display_data"
    },
    {
     "data": {
      "text/plain": [
       "<sympy.plotting.plot.Plot at 0x20d935b2eb0>"
      ]
     },
     "execution_count": 8,
     "metadata": {},
     "output_type": "execute_result"
    }
   ],
   "source": [
    "with open(\"beam_2.txt\", 'r') as file:\n",
    "    beam_2_data = file.read()\n",
    "    \n",
    "b2_lines = beam_2_data.split(\"\\n\")\n",
    "    \n",
    "length, E, I = b2_lines[0].split(\", \")\n",
    "length = int(length)\n",
    "\n",
    "support_location_1 = b2_lines[1].split(\", \")[0]\n",
    "support_location_2 = b2_lines[1].split(\",\")[1]\n",
    "support_location_3 = b2_lines[1].split(\", \")[2]\n",
    "\n",
    "support_location_1 = int(support_location_1)\n",
    "support_location_2 = int(support_location_2)\n",
    "support_location_3 = int(support_location_3)\n",
    "\n",
    "load_magnitude_1 = b2_lines[2].split(\",\")[0]\n",
    "load_start_1 = b2_lines[2].split(\",\")[1]\n",
    "load_order_1 = b2_lines[2].split(\",\")[2]\n",
    "\n",
    "load_magnitude_1 = float(load_magnitude_1)\n",
    "load_start_1 = int(load_start_1)\n",
    "load_order_1 = int(load_order_1)\n",
    "\n",
    "load_magnitude_2 = b2_lines[3].split(\",\")[0]\n",
    "load_start_2 = b2_lines[3].split(\",\")[1]\n",
    "load_order_2 = b2_lines[3].split(\",\")[2]\n",
    "\n",
    "load_magnitude_2 = float(load_magnitude_2)\n",
    "load_start_2 = int(load_start_2)\n",
    "load_order_2 = int(load_order_2)\n",
    "\n",
    "\n",
    "R1, R2, R3 = symbols(\"R1 R2 R3\")\n",
    "\n",
    "b2_beam = Beam(length, E, I)\n",
    "b2_beam.apply_load(R1, support_location_1, -1)\n",
    "b2_beam.apply_load(R2, support_location_2, -1)\n",
    "b2_beam.apply_load(R3, support_location_3, -1)\n",
    "b2_beam.apply_load(load_magnitude_1, load_start_1, load_order_1)\n",
    "b2_beam.apply_load(load_magnitude_2, load_start_2, load_order_2)\n",
    "b2_beam.bc_deflection = [(support_location_1, 0), (support_location_2, 0), (support_location_3, 0)]\n",
    "\n",
    "b2_beam.solve_for_reaction_loads(*[R1, R2, R3])\n",
    "print(b2_beam.reaction_loads)\n",
    "b2_beam.plot_shear_force()\n",
    "b2_beam.plot_bending_moment()"
   ]
  },
  {
   "cell_type": "markdown",
   "id": "fd6a359d-ac05-40a2-bbf9-6c69d1e68162",
   "metadata": {},
   "source": [
    "# Task F\n",
    "\n",
    "1. Make a duplicate of the file \"beam_1.txt\" and call it \"beam_3.txt\". \n",
    "2. Make a duplicate of \"beam_2.txt\" and call it \"beam_4.txt\"\n",
    "3. Rename the title of **Task D Response** to **Beam: Two supports, one load**\n",
    "4. Rename the title of **Task E Response** to **Beam: Three supports, two loads**\n",
    "5. Change some of the values in \"beam_3.txt\" and change your \"Two supports, one load\" script to run the data in \"beam_3.txt\" to see some new results\n",
    "6. Do the same with \"beam_4.txt\" and \"Three supports, two loads\" to see some new results\n",
    "7. Now, try running your \"beam_1.txt\" on your \"Three supports, two loads\" script. Did it work? What happened?\n",
    "8. Try to run your \"beam_4.txt\" on your \"Two supports, one load\". Did it work? What happened?\n",
    "9. Ponder the question: \"Is there some way to write _one_ script that would work with _all_ beam files\"?"
   ]
  },
  {
   "cell_type": "markdown",
   "id": "2baf70f7-2ed4-4c92-b614-f533406a65fe",
   "metadata": {},
   "source": [
    "# 🦸‍ Submit Workbook 02\n",
    "Whew! Congratulations on getting through Workbook 02. Was some of that work repetitive?  Maybe you started asking yourself, \"Is there a better way to do this?\"\n",
    "\n",
    "Well...yes, there is. We will start on that next week.\n",
    "\n",
    "For now, just email your completed workbook to me at `cferster@rjc.ca` with the subject line `Workbook 02 Submission`\n",
    "\n",
    "Oh, but if you are keen, I have also included a \"Workbook_02 Extra Practice\" notebook if you wanted to practice more but with non-structural exercises."
   ]
  },
  {
   "cell_type": "code",
   "execution_count": null,
   "id": "cdad82f6-ca67-41f8-babc-c6e0204b219a",
   "metadata": {},
   "outputs": [],
   "source": []
  }
 ],
 "metadata": {
  "kernelspec": {
   "display_name": "Python 3 (ipykernel)",
   "language": "python",
   "name": "python3"
  },
  "language_info": {
   "codemirror_mode": {
    "name": "ipython",
    "version": 3
   },
   "file_extension": ".py",
   "mimetype": "text/x-python",
   "name": "python",
   "nbconvert_exporter": "python",
   "pygments_lexer": "ipython3",
   "version": "3.9.7"
  }
 },
 "nbformat": 4,
 "nbformat_minor": 5
}
